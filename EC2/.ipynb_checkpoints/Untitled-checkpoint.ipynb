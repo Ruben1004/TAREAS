{
 "cells": [
  {
   "cell_type": "code",
   "execution_count": 2,
   "id": "14edf74d",
   "metadata": {},
   "outputs": [],
   "source": [
    "import pandas as pd\n",
    "import numpy as np\n",
    "\n",
    "\n"
   ]
  },
  {
   "cell_type": "code",
   "execution_count": 5,
   "id": "286a2fe4",
   "metadata": {},
   "outputs": [
    {
     "name": "stdout",
     "output_type": "stream",
     "text": [
      "Hola, ya terminé el EC2. Saludos. Rubén Pérez\n"
     ]
    }
   ],
   "source": [
    "nombre = \"Rubén Pérez\"\n",
    "print(\"Hola, ya terminé el EC2. Saludos. \" + nombre)"
   ]
  },
  {
   "cell_type": "code",
   "execution_count": null,
   "id": "254386c4",
   "metadata": {},
   "outputs": [],
   "source": []
  }
 ],
 "metadata": {
  "kernelspec": {
   "display_name": "Python 3",
   "language": "python",
   "name": "python3"
  },
  "language_info": {
   "codemirror_mode": {
    "name": "ipython",
    "version": 3
   },
   "file_extension": ".py",
   "mimetype": "text/x-python",
   "name": "python",
   "nbconvert_exporter": "python",
   "pygments_lexer": "ipython3",
   "version": "3.9.1"
  }
 },
 "nbformat": 4,
 "nbformat_minor": 5
}
